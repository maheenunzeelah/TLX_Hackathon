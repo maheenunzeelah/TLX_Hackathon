{
 "cells": [
  {
   "cell_type": "code",
   "execution_count": 29,
   "metadata": {},
   "outputs": [],
   "source": [
    "def combine_columns(row):\n",
    "    return str(row[1]) + row[3]"
   ]
  },
  {
   "cell_type": "code",
   "execution_count": 33,
   "metadata": {},
   "outputs": [
    {
     "data": {
      "text/plain": [
       "1     The user taps the link in the pre-\\nqualified ...\n",
       "2     The user views available Smart \\nAdvance produ...\n",
       "3     The user clicks on ‘CONTINUE’ button \\nto proc...\n",
       "4     The user enters the 13-digits CNIC.The system ...\n",
       "5     The system triggers ‘Valid CNIC Entered’ and \\...\n",
       "6                                                      \n",
       "7     The system initiates the ‘Sign-up’ process if ...\n",
       "8     The system navigates the user to ‘Set \\nPassco...\n",
       "9     The system triggers 'Passcode Set Page’ client...\n",
       "10      The user enters a 5-digit passcode of \\nchoice.\n",
       "11    The user clicks on ‘Done’ button.he system sto...\n",
       "12    The system sends a 4-digit OTP pin to the \\nus...\n",
       "13    The user receives and enters the OTP \\npin in ...\n",
       "14    The system navigates the user on ‘Eligibility ...\n",
       "15    The system displays the notification ‘Your \\na...\n",
       "16                                                     \n",
       "17    If the CNIC is not valid or doesn't exist in D...\n",
       "Name: Combined, dtype: object"
      ]
     },
     "metadata": {},
     "output_type": "display_data"
    }
   ],
   "source": [
    "import pandas as pd\n",
    "from tabulate import tabulate\n",
    "df=pd.read_csv(r\"C:\\Users\\MaheenUnzeelah\\Documents\\Hackathon\\lattice_table_3.csv\",header=None)\n",
    "\n",
    "df = df.tail(-1)\n",
    "df = df.fillna('')\n",
    "\n",
    "df['Combined'] = df.apply(combine_columns, axis=1)\n",
    "\n",
    "display(df['Combined'])\n",
    "df.to_csv('us_1.csv')"
   ]
  },
  {
   "cell_type": "code",
   "execution_count": null,
   "metadata": {},
   "outputs": [],
   "source": []
  }
 ],
 "metadata": {
  "kernelspec": {
   "display_name": "env",
   "language": "python",
   "name": "python3"
  },
  "language_info": {
   "codemirror_mode": {
    "name": "ipython",
    "version": 3
   },
   "file_extension": ".py",
   "mimetype": "text/x-python",
   "name": "python",
   "nbconvert_exporter": "python",
   "pygments_lexer": "ipython3",
   "version": "3.10.6"
  }
 },
 "nbformat": 4,
 "nbformat_minor": 2
}
